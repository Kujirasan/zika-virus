{
 "cells": [
  {
   "cell_type": "code",
   "execution_count": 2,
   "metadata": {
    "collapsed": false
   },
   "outputs": [],
   "source": [
    "# Import Libraries\n",
    "%matplotlib inline\n",
    "import re\n",
    "import matplotlib.pyplot as plt\n",
    "import numpy as np\n",
    "import Bio.SeqIO as SeqIO\n",
    "import time\n",
    "from sklearn.cluster import KMeans, k_means"
   ]
  },
  {
   "cell_type": "code",
   "execution_count": 3,
   "metadata": {
    "collapsed": false
   },
   "outputs": [],
   "source": [
    "# Extract Data\n",
    "f = open(\"sequence.gb\",\"r\")\n",
    "out = f.read()\n",
    "f.close()\n",
    "\n",
    "j = 0\n",
    "dict = []\n",
    "for i, record in enumerate(SeqIO.parse(\"sequence.gb\", \"genbank\")):\n",
    "    if all (key in record.features[0].qualifiers for key in ('host','country','collection_date')):\n",
    "        j+=1\n",
    "        \n",
    "        host = record.features[0].qualifiers['host'][0]\n",
    "        host = host.split(';')[0]\n",
    "        \n",
    "        location = record.features[0].qualifiers['country'][0]\n",
    "        location = location.split(':')[0]\n",
    "        \n",
    "        year = record.features[0].qualifiers['collection_date'][0]\n",
    "        year = year.split('-')[-1]\n",
    "        \n",
    "        dict.append(\n",
    "            {\n",
    "                'id'          :record.id,\n",
    "                'name'        :record.name,\n",
    "                'description' :record.description,\n",
    "                'host'        :host,\n",
    "                'location'    :location,\n",
    "                'year'        :year,\n",
    "                'seq'         :record.seq,\n",
    "                'url'         :'http://www.ncbi.nlm.nih.gov/nuccore/'+record.id\n",
    "            }\n",
    "        )"
   ]
  },
  {
   "cell_type": "code",
   "execution_count": null,
   "metadata": {
    "collapsed": true
   },
   "outputs": [],
   "source": [
    "for row in dict:\n",
    "    print (row['id'] + ' ' + row['url'])"
   ]
  },
  {
   "cell_type": "code",
   "execution_count": 4,
   "metadata": {
    "collapsed": true
   },
   "outputs": [],
   "source": [
    "def match_score(A,B):\n",
    "    if A == B: return 1\n",
    "    else: return -1"
   ]
  },
  {
   "cell_type": "code",
   "execution_count": 5,
   "metadata": {
    "collapsed": false
   },
   "outputs": [],
   "source": [
    "def print_table(S,header):\n",
    "    print(header)\n",
    "    for i in range(0,len(S)):\n",
    "        print(S[i])\n",
    "    print('\\n')"
   ]
  },
  {
   "cell_type": "code",
   "execution_count": 51,
   "metadata": {
    "collapsed": false
   },
   "outputs": [],
   "source": [
    "# Global Alignment\n",
    "def complete_global_alignment(v,w):\n",
    "    m = len(v)\n",
    "    n = len(w)\n",
    "\n",
    "    # Backtrack enum\n",
    "    R_UP = 1\n",
    "    R_LEFT = 2\n",
    "    R_DIAG = 3\n",
    "\n",
    "    d = -1\n",
    "    S = [[0 for x in range(len(v)+1)] for y in range(len(w)+1)]\n",
    "    B = [[0 for x in range(len(v)+1)] for y in range(len(w)+1)]\n",
    "\n",
    "    for i in range(1,len(w)+1):\n",
    "        S[i][0] = d*i\n",
    "        B[i][0] = R_UP\n",
    "    for j in range(1,len(v)+1):\n",
    "        S[0][j] = d*j\n",
    "        B[0][j] = R_LEFT\n",
    "    for i in range(1,len(w)+1):\n",
    "        for j in range(1,len(v)+1):\n",
    "            match_score = 1 if v[j-1] == w[i-1] else -1\n",
    "            Match = S[i-1][j-1] + match_score\n",
    "            Insert = S[i-1][j] + d\n",
    "            Delete = S[i][j-1] + d\n",
    "            S[i][j] = max(Match, Insert, Delete)\n",
    "            if S[i][j] == Match:\n",
    "                B[i][j] = R_DIAG\n",
    "            elif S[i][j] == Insert:\n",
    "                B[i][j] = R_UP\n",
    "            elif S[i][j] == Delete:\n",
    "                B[i][j] = R_LEFT\n",
    "    \n",
    "    # Print resulting table\n",
    "    #print_table(S,'Resulting Table')\n",
    "    \n",
    "    # Print backtrack matrix\n",
    "    #print_table(B,'Backtrack Matrix')\n",
    "    \n",
    "    # Print resulting string\n",
    "    #print('Backtrack Process')\n",
    "    vr = \"\"\n",
    "    wr = \"\"\n",
    "    i = n\n",
    "    j = m\n",
    "    k = 0\n",
    "    while B[i][j] != 0:\n",
    "        if B[i][j] == R_DIAG:\n",
    "            vr = v[j-1] + vr\n",
    "            wr = w[i-1] + wr\n",
    "            #print(i,j,'DIAG')\n",
    "            i = i-1\n",
    "            j = j-1\n",
    "        elif B[i][j] == R_LEFT:\n",
    "            wr = '-' + wr\n",
    "            vr = v[j-1] + vr\n",
    "            #print(i,j,'LEFT')\n",
    "            j = j-1\n",
    "        elif B[i][j] == R_UP:\n",
    "            vr = '-' + vr\n",
    "            wr = w[i-1] + wr\n",
    "            #print(i,j,'UP')\n",
    "            i = i-1\n",
    "\n",
    "    #print('\\n')\n",
    "    \n",
    "    #print('Global Alignment')\n",
    "    #print('Length v:')\n",
    "    #print(len(vr))\n",
    "    #print('Length w:')\n",
    "    #print(len(wr))\n",
    "    #print(vr)\n",
    "    #print(wr)\n",
    "    #print('Score:')\n",
    "    #print(S[len(w)][len(v)])\n",
    "    return S[len(w)][len(v)]"
   ]
  },
  {
   "cell_type": "code",
   "execution_count": 50,
   "metadata": {
    "collapsed": false
   },
   "outputs": [],
   "source": [
    "# Global Alignment\n",
    "def global_alignment(v,w):\n",
    "    m = len(v)\n",
    "    n = len(w)\n",
    "\n",
    "    d = -1\n",
    "    S = [[0 for x in range(len(v)+1)] for y in range(len(w)+1)]\n",
    "\n",
    "    for i in range(1,len(w)+1):\n",
    "        S[i][0] = d*i\n",
    "    for j in range(1,len(v)+1):\n",
    "        S[0][j] = d*j\n",
    "    for i in range(1,len(w)+1):\n",
    "        for j in range(1,len(v)+1):\n",
    "            match_score = 1 if v[j-1] == w[i-1] else -1\n",
    "            Match = S[i-1][j-1] + match_score\n",
    "            Insert = S[i-1][j] + d\n",
    "            Delete = S[i][j-1] + d\n",
    "            S[i][j] = max(Match, Insert, Delete)\n",
    "                \n",
    "    return S[len(w)][len(v)]"
   ]
  },
  {
   "cell_type": "code",
   "execution_count": 49,
   "metadata": {
    "collapsed": true
   },
   "outputs": [],
   "source": [
    "def complete_local_alignment(v,w):\n",
    "    m = len(v)\n",
    "    n = len(w)\n",
    "\n",
    "    # Backtrack enum\n",
    "    R_UP = 1\n",
    "    R_LEFT = 2\n",
    "    R_DIAG = 3\n",
    "\n",
    "    d = -1\n",
    "    max_val = -1\n",
    "    max_row = 0\n",
    "    max_col = 0\n",
    "    S = [[0 for x in range(len(v)+1)] for y in range(len(w)+1)]\n",
    "    B = [[0 for x in range(len(v)+1)] for y in range(len(w)+1)]\n",
    "\n",
    "    for i in range(1,len(w)+1):\n",
    "        for j in range(1,len(v)+1):\n",
    "            match_score = 1 if v[j-1] == w[i-1] else -1\n",
    "            Match = S[i-1][j-1] + match_score\n",
    "            Insert = S[i-1][j] + d\n",
    "            Delete = S[i][j-1] + d\n",
    "            S[i][j] = max(Match, Insert, Delete, 0)\n",
    "            if S[i][j] > max_val:\n",
    "                max_val = S[i][j]\n",
    "                max_row = i\n",
    "                max_col = j\n",
    "            if S[i][j] == 0:\n",
    "                continue\n",
    "            elif S[i][j] == Match:\n",
    "                B[i][j] = R_DIAG\n",
    "            elif S[i][j] == Insert:\n",
    "                B[i][j] = R_UP\n",
    "            elif S[i][j] == Delete:\n",
    "                B[i][j] = R_LEFT\n",
    "\n",
    "    # Print resulting table\n",
    "    #print_table(S,'Resulting Table')\n",
    "          \n",
    "    # Print backtrack matrix\n",
    "    #print_table(B,'Backtrack Matrix')\n",
    "    \n",
    "    # Print resulting string\n",
    "    #print('Backtrack Process')\n",
    "    vr = \"\"\n",
    "    wr = \"\"\n",
    "    i = max_row\n",
    "    j = max_col\n",
    "    #print('Max Row',max_row,'Max Col',max_col)\n",
    "    while B[i][j] > 0:\n",
    "        if B[i][j] == R_DIAG:\n",
    "            vr = v[j-1] + vr\n",
    "            wr = w[i-1] + wr\n",
    "            #print(i,j,'DIAG')\n",
    "            i = i-1\n",
    "            j = j-1\n",
    "        elif B[i][j] == R_LEFT:\n",
    "            #wr = '-' + wr\n",
    "            vr = v[j-1] + vr\n",
    "            #print(i,j,'LEFT')\n",
    "            j = j-1\n",
    "        elif B[i][j] == R_UP:\n",
    "            #vr = '-' + vr\n",
    "            wr = w[i-1] + wr\n",
    "            #print(i,j,'UP')\n",
    "            i = i-1\n",
    "\n",
    "    #print('\\n')\n",
    "    \n",
    "    #print('Local Alignment')\n",
    "    #print('Length v:')\n",
    "    #print(len(vr))\n",
    "    #print('Length w:')\n",
    "    #print(len(wr))\n",
    "    #print(vr)\n",
    "    #print(wr)\n",
    "    #vx = vr\n",
    "    #wx = wr\n",
    "    #print('Score:')\n",
    "    #print(max_val)\n",
    "    #return vr,wr\n",
    "    return max_val"
   ]
  },
  {
   "cell_type": "code",
   "execution_count": 46,
   "metadata": {
    "collapsed": false
   },
   "outputs": [],
   "source": [
    "def local_alignment(v,w):\n",
    "    m = len(v)\n",
    "    n = len(w)\n",
    "\n",
    "    d = -1\n",
    "    max_val = -1\n",
    "    max_row = 0\n",
    "    max_col = 0\n",
    "    S = [[0 for x in range(len(v)+1)] for y in range(len(w)+1)]\n",
    "\n",
    "    for i in range(1,len(w)+1):\n",
    "        for j in range(1,len(v)+1):\n",
    "            match_score = 1 if v[j-1] == w[i-1] else -1\n",
    "            Match = S[i-1][j-1] + match_score\n",
    "            Insert = S[i-1][j] + d\n",
    "            Delete = S[i][j-1] + d\n",
    "            S[i][j] = max(Match, Insert, Delete, 0)\n",
    "            if S[i][j] > max_val:\n",
    "                max_val = S[i][j]\n",
    "\n",
    "    return max_val"
   ]
  },
  {
   "cell_type": "code",
   "execution_count": 10,
   "metadata": {
    "collapsed": false
   },
   "outputs": [],
   "source": [
    "indonesian_virus = []\n",
    "for row in dict:\n",
    "    if row['location'] == 'Indonesia':\n",
    "        indonesian_virus.append(row)"
   ]
  },
  {
   "cell_type": "code",
   "execution_count": 33,
   "metadata": {
    "collapsed": false
   },
   "outputs": [
    {
     "data": {
      "text/plain": [
       "array([[ 10614.50588235],\n",
       "       [   902.625     ]])"
      ]
     },
     "execution_count": 33,
     "metadata": {},
     "output_type": "execute_result"
    }
   ],
   "source": [
    "#get centroid\n",
    "seq_len_kmeans = [[len(row['seq'])] for row in dict]\n",
    "seq_centroid, seq_cluster, seq_cluster_error = k_means(seq_len_kmeans, n_clusters=2)\n",
    "seq_centroid"
   ]
  },
  {
   "cell_type": "code",
   "execution_count": 31,
   "metadata": {
    "collapsed": false
   },
   "outputs": [
    {
     "data": {
      "text/plain": [
       "array([ 5758.56544118])"
      ]
     },
     "execution_count": 31,
     "metadata": {},
     "output_type": "execute_result"
    }
   ],
   "source": [
    "#get threshold: the average of centroids\n",
    "threshold = (seq_centroid[0] + seq_centroid[1])/2\n",
    "threshold"
   ]
  },
  {
   "cell_type": "code",
   "execution_count": 35,
   "metadata": {
    "collapsed": false
   },
   "outputs": [
    {
     "data": {
      "text/plain": [
       "1148"
      ]
     },
     "execution_count": 35,
     "metadata": {},
     "output_type": "execute_result"
    }
   ],
   "source": [
    "len(indonesian_virus[0]['seq'])"
   ]
  },
  {
   "cell_type": "code",
   "execution_count": 36,
   "metadata": {
    "collapsed": false
   },
   "outputs": [
    {
     "data": {
      "text/plain": [
       "10735"
      ]
     },
     "execution_count": 36,
     "metadata": {},
     "output_type": "execute_result"
    }
   ],
   "source": [
    "len(dict[2]['seq'])"
   ]
  },
  {
   "cell_type": "code",
   "execution_count": 45,
   "metadata": {
    "collapsed": false
   },
   "outputs": [
    {
     "name": "stdout",
     "output_type": "stream",
     "text": [
      "556\n",
      "Time elapsed: 22.553848028182983 seconds\n"
     ]
    }
   ],
   "source": [
    "#individual check\n",
    "start_time = time.time() # execution time\n",
    "score = local_alignment(indonesian_virus[0]['seq'],dict[2]['seq'])\n",
    "print(score)\n",
    "print(\"Time elapsed: %s seconds\" % (time.time() - start_time))"
   ]
  },
  {
   "cell_type": "code",
   "execution_count": 48,
   "metadata": {
    "collapsed": false
   },
   "outputs": [
    {
     "name": "stdout",
     "output_type": "stream",
     "text": [
      "556\n",
      "Time elapsed: 13.05771517753601 seconds\n"
     ]
    }
   ],
   "source": [
    "#individual check\n",
    "start_time = time.time() # execution time\n",
    "v = str(indonesian_virus[0]['seq'])\n",
    "w = str(dict[2]['seq'])\n",
    "score = local_alignment(v,w)\n",
    "print(score)\n",
    "print(\"Time elapsed: %s seconds\" % (time.time() - start_time))"
   ]
  },
  {
   "cell_type": "code",
   "execution_count": 40,
   "metadata": {
    "collapsed": false
   },
   "outputs": [
    {
     "name": "stdout",
     "output_type": "stream",
     "text": [
      "1\n",
      "KU179098.1  vs  KX101066.1\n",
      "Local\n",
      "Score:  290\n",
      "Time elapsed: 23.44686508178711 seconds\n",
      "2\n",
      "KF258813.1  vs  KX101066.1\n",
      "Local\n",
      "Score:  80\n",
      "Time elapsed: 7.871891021728516 seconds\n",
      "Total time elapsed: 31.319257020950317 seconds\n"
     ]
    }
   ],
   "source": [
    "#group check\n",
    "start_time = time.time() # execution time\n",
    "score = []\n",
    "i = 1\n",
    "for ind in indonesian_virus:\n",
    "    for row in dict:\n",
    "        print(i)\n",
    "        virus_time = time.time();\n",
    "        if ind['id'] == row['id']:\n",
    "            continue\n",
    "        print(ind['id'] , ' vs ' , row['id'])\n",
    "        i += 1\n",
    "        s = \"\"\n",
    "        if len(row['seq']) > threshold:\n",
    "            print('Local')\n",
    "            s = local_alignment(ind['seq'],row['seq'])\n",
    "        else:\n",
    "            print('Global')\n",
    "            s = global_alignment(ind['seq'],row['seq'])\n",
    "        score.append(s)\n",
    "        print('Score: ' , s)\n",
    "        print(\"Time elapsed: %s seconds\" % (time.time() - virus_time))\n",
    "        if i > 1: #Flow control to test\n",
    "            break\n",
    "print(\"Total time elapsed: %s seconds\" % (time.time() - start_time))"
   ]
  },
  {
   "cell_type": "code",
   "execution_count": null,
   "metadata": {
    "collapsed": true
   },
   "outputs": [],
   "source": []
  }
 ],
 "metadata": {
  "kernelspec": {
   "display_name": "Python 3",
   "language": "python",
   "name": "python3"
  },
  "language_info": {
   "codemirror_mode": {
    "name": "ipython",
    "version": 3
   },
   "file_extension": ".py",
   "mimetype": "text/x-python",
   "name": "python",
   "nbconvert_exporter": "python",
   "pygments_lexer": "ipython3",
   "version": "3.4.3"
  }
 },
 "nbformat": 4,
 "nbformat_minor": 0
}
