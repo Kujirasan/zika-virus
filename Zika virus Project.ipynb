{
 "cells": [
  {
   "cell_type": "code",
   "execution_count": 1,
   "metadata": {
    "collapsed": false
   },
   "outputs": [],
   "source": [
    "# Import Libraries\n",
    "%matplotlib inline\n",
    "import re\n",
    "import matplotlib.pyplot as plt\n",
    "import numpy as np\n",
    "import Bio.SeqIO as SeqIO\n",
    "import time\n",
    "from sklearn.cluster import KMeans, k_means"
   ]
  },
  {
   "cell_type": "code",
   "execution_count": 2,
   "metadata": {
    "collapsed": false
   },
   "outputs": [],
   "source": [
    "# Extract Data\n",
    "f = open(\"sequence.gb\",\"r\")\n",
    "out = f.read()\n",
    "f.close()\n",
    "\n",
    "j = 0\n",
    "dict = []\n",
    "for i, record in enumerate(SeqIO.parse(\"sequence.gb\", \"genbank\")):\n",
    "    if all (key in record.features[0].qualifiers for key in ('host','country','collection_date')):\n",
    "        j+=1\n",
    "        \n",
    "        host = record.features[0].qualifiers['host'][0]\n",
    "        host = host.split(';')[0]\n",
    "        \n",
    "        location = record.features[0].qualifiers['country'][0]\n",
    "        location = location.split(':')[0]\n",
    "        \n",
    "        year = record.features[0].qualifiers['collection_date'][0]\n",
    "        year = year.split('-')[-1]\n",
    "        \n",
    "        #print (j)\n",
    "        #print (record.id)\n",
    "        #print (record.name)\n",
    "        #print (record.description)\n",
    "        #print (host)\n",
    "        #print (location)\n",
    "        #print (year)\n",
    "        #print ('\\n')\n",
    "        \n",
    "        dict.append(\n",
    "            {\n",
    "                'id'          :record.id,\n",
    "                'name'        :record.name,\n",
    "                'description' :record.description,\n",
    "                'host'        :host,\n",
    "                'location'    :location,\n",
    "                'year'        :year,\n",
    "                'seq'         :record.seq,\n",
    "                'url'         :'http://www.ncbi.nlm.nih.gov/nuccore/'+record.id\n",
    "            }\n",
    "        )"
   ]
  },
  {
   "cell_type": "code",
   "execution_count": null,
   "metadata": {
    "collapsed": true
   },
   "outputs": [],
   "source": [
    "for row in dict:\n",
    "    print (row['id'] + ' ' + row['url'])"
   ]
  },
  {
   "cell_type": "code",
   "execution_count": 3,
   "metadata": {
    "collapsed": true
   },
   "outputs": [],
   "source": [
    "def match_score(A,B):\n",
    "    if A == B: return 1\n",
    "    else: return -1"
   ]
  },
  {
   "cell_type": "code",
   "execution_count": 4,
   "metadata": {
    "collapsed": false
   },
   "outputs": [],
   "source": [
    "def print_table(S,header):\n",
    "    print(header)\n",
    "    for i in range(0,len(S)):\n",
    "        print(S[i])\n",
    "    print('\\n')"
   ]
  },
  {
   "cell_type": "code",
   "execution_count": 5,
   "metadata": {
    "collapsed": false
   },
   "outputs": [],
   "source": [
    "# Global Alignment\n",
    "def global_alignment(v,w):\n",
    "    m = len(v)\n",
    "    n = len(w)\n",
    "\n",
    "    # Backtrack enum\n",
    "    R_UP = 1\n",
    "    R_LEFT = 2\n",
    "    R_DIAG = 3\n",
    "\n",
    "    d = -1\n",
    "    S = [[0 for x in range(len(v)+1)] for y in range(len(w)+1)]\n",
    "    B = [[0 for x in range(len(v)+1)] for y in range(len(w)+1)]\n",
    "\n",
    "    for i in range(1,len(w)+1):\n",
    "        S[i][0] = d*i\n",
    "        B[i][0] = R_UP\n",
    "    for j in range(1,len(v)+1):\n",
    "        S[0][j] = d*j\n",
    "        B[0][j] = R_LEFT\n",
    "    for i in range(1,len(w)+1):\n",
    "        for j in range(1,len(v)+1):\n",
    "            Match = S[i-1][j-1] + match_score(v[j-1],w[i-1])\n",
    "            Insert = S[i-1][j] + d\n",
    "            Delete = S[i][j-1] + d\n",
    "            S[i][j] = max(Match, Insert, Delete)\n",
    "            if S[i][j] == Match:\n",
    "                B[i][j] = R_DIAG\n",
    "            elif S[i][j] == Insert:\n",
    "                B[i][j] = R_UP\n",
    "            elif S[i][j] == Delete:\n",
    "                B[i][j] = R_LEFT\n",
    "    \n",
    "    # Print resulting table\n",
    "    #print_table(S,'Resulting Table')\n",
    "    \n",
    "    # Print backtrack matrix\n",
    "    #print_table(B,'Backtrack Matrix')\n",
    "    \n",
    "    # Print resulting string\n",
    "    #print('Backtrack Process')\n",
    "    vr = \"\"\n",
    "    wr = \"\"\n",
    "    i = n\n",
    "    j = m\n",
    "    k = 0\n",
    "    while B[i][j] != 0:\n",
    "        if B[i][j] == R_DIAG:\n",
    "            vr = v[j-1] + vr\n",
    "            wr = w[i-1] + wr\n",
    "            #print(i,j,'DIAG')\n",
    "            i = i-1\n",
    "            j = j-1\n",
    "        elif B[i][j] == R_LEFT:\n",
    "            wr = '-' + wr\n",
    "            vr = v[j-1] + vr\n",
    "            #print(i,j,'LEFT')\n",
    "            j = j-1\n",
    "        elif B[i][j] == R_UP:\n",
    "            vr = '-' + vr\n",
    "            wr = w[i-1] + wr\n",
    "            #print(i,j,'UP')\n",
    "            i = i-1\n",
    "\n",
    "    #print('\\n')\n",
    "    \n",
    "    #print('Global Alignment')\n",
    "    #print('Length v:')\n",
    "    #print(len(vr))\n",
    "    #print('Length w:')\n",
    "    #print(len(wr))\n",
    "    #print(vr)\n",
    "    #print(wr)\n",
    "    #print('Score:')\n",
    "    #print(S[len(w)][len(v)])\n",
    "    return S[len(w)][len(v)]"
   ]
  },
  {
   "cell_type": "code",
   "execution_count": 6,
   "metadata": {
    "collapsed": true
   },
   "outputs": [],
   "source": [
    "def local_alignment(v,w):\n",
    "    m = len(v)\n",
    "    n = len(w)\n",
    "\n",
    "    # Backtrack enum\n",
    "    R_UP = 1\n",
    "    R_LEFT = 2\n",
    "    R_DIAG = 3\n",
    "\n",
    "    d = -1\n",
    "    max_val = -1\n",
    "    max_row = 0\n",
    "    max_col = 0\n",
    "    S = [[0 for x in range(len(v)+1)] for y in range(len(w)+1)]\n",
    "    B = [[0 for x in range(len(v)+1)] for y in range(len(w)+1)]\n",
    "\n",
    "    for i in range(1,len(w)+1):\n",
    "        for j in range(1,len(v)+1):\n",
    "            Match = S[i-1][j-1] + match_score(v[j-1],w[i-1])\n",
    "            Insert = S[i-1][j] + d\n",
    "            Delete = S[i][j-1] + d\n",
    "            S[i][j] = max(Match, Insert, Delete, 0)\n",
    "            if S[i][j] > max_val:\n",
    "                max_val = S[i][j]\n",
    "                max_row = i\n",
    "                max_col = j\n",
    "            if S[i][j] == 0:\n",
    "                continue\n",
    "            elif S[i][j] == Match:\n",
    "                B[i][j] = R_DIAG\n",
    "            elif S[i][j] == Insert:\n",
    "                B[i][j] = R_UP\n",
    "            elif S[i][j] == Delete:\n",
    "                B[i][j] = R_LEFT\n",
    "\n",
    "    # Print resulting table\n",
    "    #print_table(S,'Resulting Table')\n",
    "          \n",
    "    # Print backtrack matrix\n",
    "    #print_table(B,'Backtrack Matrix')\n",
    "    \n",
    "    # Print resulting string\n",
    "    #print('Backtrack Process')\n",
    "    vr = \"\"\n",
    "    wr = \"\"\n",
    "    i = max_row\n",
    "    j = max_col\n",
    "    #print('Max Row',max_row,'Max Col',max_col)\n",
    "    while B[i][j] > 0:\n",
    "        if B[i][j] == R_DIAG:\n",
    "            vr = v[j-1] + vr\n",
    "            wr = w[i-1] + wr\n",
    "            #print(i,j,'DIAG')\n",
    "            i = i-1\n",
    "            j = j-1\n",
    "        elif B[i][j] == R_LEFT:\n",
    "            #wr = '-' + wr\n",
    "            vr = v[j-1] + vr\n",
    "            #print(i,j,'LEFT')\n",
    "            j = j-1\n",
    "        elif B[i][j] == R_UP:\n",
    "            #vr = '-' + vr\n",
    "            wr = w[i-1] + wr\n",
    "            #print(i,j,'UP')\n",
    "            i = i-1\n",
    "\n",
    "    #print('\\n')\n",
    "    \n",
    "    #print('Local Alignment')\n",
    "    #print('Length v:')\n",
    "    #print(len(vr))\n",
    "    #print('Length w:')\n",
    "    #print(len(wr))\n",
    "    #print(vr)\n",
    "    #print(wr)\n",
    "    #vx = vr\n",
    "    #wx = wr\n",
    "    #print('Score:')\n",
    "    #print(max_val)\n",
    "    #return vr,wr\n",
    "    return max_val"
   ]
  },
  {
   "cell_type": "code",
   "execution_count": 16,
   "metadata": {
    "collapsed": true
   },
   "outputs": [],
   "source": [
    "def local_alignment(v,w):\n",
    "    m = len(v)\n",
    "    n = len(w)\n",
    "\n",
    "    # Backtrack enum\n",
    "    #R_UP = 1\n",
    "    #R_LEFT = 2\n",
    "    #R_DIAG = 3\n",
    "\n",
    "    d = -1\n",
    "    max_val = -1\n",
    "    max_row = 0\n",
    "    max_col = 0\n",
    "    S = [[0 for x in range(len(v)+1)] for y in range(len(w)+1)]\n",
    "    #B = [[0 for x in range(len(v)+1)] for y in range(len(w)+1)]\n",
    "\n",
    "    for i in range(1,len(w)+1):\n",
    "        for j in range(1,len(v)+1):\n",
    "            Match = S[i-1][j-1] + match_score(v[j-1],w[i-1])\n",
    "            Insert = S[i-1][j] + d\n",
    "            Delete = S[i][j-1] + d\n",
    "            S[i][j] = max(Match, Insert, Delete, 0)\n",
    "            if S[i][j] > max_val:\n",
    "                max_val = S[i][j]\n",
    "            #    max_row = i\n",
    "            #    max_col = j\n",
    "            #if S[i][j] == 0:\n",
    "            #    continue\n",
    "            #elif S[i][j] == Match:\n",
    "            #    B[i][j] = R_DIAG\n",
    "            #elif S[i][j] == Insert:\n",
    "            #    B[i][j] = R_UP\n",
    "            #elif S[i][j] == Delete:\n",
    "            #    B[i][j] = R_LEFT\n",
    "\n",
    "    # Print resulting table\n",
    "    #print_table(S,'Resulting Table')\n",
    "\n",
    "    return max_val"
   ]
  },
  {
   "cell_type": "code",
   "execution_count": null,
   "metadata": {
    "collapsed": true
   },
   "outputs": [],
   "source": [
    "def backtrack(B,v,w,max_row,max_col):\n",
    "    m = len(v)\n",
    "    n = len(w)\n",
    "\n",
    "    # Backtrack enum\n",
    "    R_UP = 1\n",
    "    R_LEFT = 2\n",
    "    R_DIAG = 3\n",
    "          \n",
    "    # Print backtrack matrix\n",
    "    #print_table(B,'Backtrack Matrix')\n",
    "    \n",
    "    # Print resulting string\n",
    "    #print('Backtrack Process')\n",
    "    vr = \"\"\n",
    "    wr = \"\"\n",
    "    i = max_row\n",
    "    j = max_col\n",
    "    \n",
    "    while B[i][j] > 0:\n",
    "        if B[i][j] == R_DIAG:\n",
    "            vr = v[j-1] + vr\n",
    "            wr = w[i-1] + wr\n",
    "            #print(i,j,'DIAG')\n",
    "            i = i-1\n",
    "            j = j-1\n",
    "        elif B[i][j] == R_LEFT:\n",
    "            #wr = '-' + wr\n",
    "            vr = v[j-1] + vr\n",
    "            #print(i,j,'LEFT')\n",
    "            j = j-1\n",
    "        elif B[i][j] == R_UP:\n",
    "            #vr = '-' + vr\n",
    "            wr = w[i-1] + wr\n",
    "            #print(i,j,'UP')\n",
    "            i = i-1\n",
    "\n",
    "    #print('\\n')\n",
    "    \n",
    "    #print('Local Alignment')\n",
    "    #print('Length v:')\n",
    "    #print(len(vr))\n",
    "    #print('Length w:')\n",
    "    #print(len(wr))\n",
    "    #print(vr)\n",
    "    #print(wr)"
   ]
  },
  {
   "cell_type": "code",
   "execution_count": 14,
   "metadata": {
    "collapsed": false
   },
   "outputs": [
    {
     "data": {
      "text/plain": [
       "48"
      ]
     },
     "execution_count": 14,
     "metadata": {},
     "output_type": "execute_result"
    }
   ],
   "source": [
    "score = local_alignment(dict[1]['seq'],dict[100]['seq'])\n",
    "score"
   ]
  },
  {
   "cell_type": "code",
   "execution_count": 16,
   "metadata": {
    "collapsed": false
   },
   "outputs": [
    {
     "data": {
      "text/plain": [
       "29"
      ]
     },
     "execution_count": 16,
     "metadata": {},
     "output_type": "execute_result"
    }
   ],
   "source": [
    "score = global_alignment(dict[1]['seq'],dict[100]['seq'])\n",
    "score"
   ]
  },
  {
   "cell_type": "code",
   "execution_count": 6,
   "metadata": {
    "collapsed": false
   },
   "outputs": [],
   "source": [
    "indonesian_virus = []\n",
    "for row in dict:\n",
    "    if row['location'] == 'Indonesia':\n",
    "        indonesian_virus.append(row)"
   ]
  },
  {
   "cell_type": "code",
   "execution_count": 7,
   "metadata": {
    "collapsed": false
   },
   "outputs": [],
   "source": [
    "seq_len_kmeans = [[len(row['seq'])] for row in dict]"
   ]
  },
  {
   "cell_type": "code",
   "execution_count": 8,
   "metadata": {
    "collapsed": false
   },
   "outputs": [],
   "source": [
    "seq_centroid, seq_cluster, seq_cluster_error = k_means(seq_len_kmeans, n_clusters=2)"
   ]
  },
  {
   "cell_type": "code",
   "execution_count": 19,
   "metadata": {
    "collapsed": false
   },
   "outputs": [
    {
     "data": {
      "text/plain": [
       "array([[   813.76033058],\n",
       "       [ 10596.31578947]])"
      ]
     },
     "execution_count": 19,
     "metadata": {},
     "output_type": "execute_result"
    }
   ],
   "source": [
    "seq_centroid"
   ]
  },
  {
   "cell_type": "code",
   "execution_count": 9,
   "metadata": {
    "collapsed": false
   },
   "outputs": [
    {
     "data": {
      "text/plain": [
       "array([ 5705.03806003])"
      ]
     },
     "execution_count": 9,
     "metadata": {},
     "output_type": "execute_result"
    }
   ],
   "source": [
    "#threshold: the average of centroids\n",
    "threshold = (seq_centroid[0] + seq_centroid[1])/2\n",
    "threshold"
   ]
  },
  {
   "cell_type": "code",
   "execution_count": 54,
   "metadata": {
    "collapsed": false
   },
   "outputs": [
    {
     "name": "stdout",
     "output_type": "stream",
     "text": [
      "KU179098.1  vs  KX062044.1\n",
      "Global\n",
      "-468\n",
      "KU179098.1  vs  KX062045.1\n",
      "Global\n",
      "-468\n",
      "KU179098.1  vs  KX051563.1\n",
      "Local\n"
     ]
    },
    {
     "ename": "KeyboardInterrupt",
     "evalue": "",
     "output_type": "error",
     "traceback": [
      "\u001b[1;31m---------------------------------------------------------------------------\u001b[0m",
      "\u001b[1;31mKeyboardInterrupt\u001b[0m                         Traceback (most recent call last)",
      "\u001b[1;32m<ipython-input-54-d2fa2d6b3f82>\u001b[0m in \u001b[0;36m<module>\u001b[1;34m()\u001b[0m\n\u001b[0;32m     11\u001b[0m         \u001b[1;32mif\u001b[0m \u001b[0mlen\u001b[0m\u001b[1;33m(\u001b[0m\u001b[0mrow\u001b[0m\u001b[1;33m[\u001b[0m\u001b[1;34m'seq'\u001b[0m\u001b[1;33m]\u001b[0m\u001b[1;33m)\u001b[0m \u001b[1;33m>\u001b[0m \u001b[0mthreshold\u001b[0m\u001b[1;33m:\u001b[0m\u001b[1;33m\u001b[0m\u001b[0m\n\u001b[0;32m     12\u001b[0m             \u001b[0mprint\u001b[0m\u001b[1;33m(\u001b[0m\u001b[1;34m'Local'\u001b[0m\u001b[1;33m)\u001b[0m\u001b[1;33m\u001b[0m\u001b[0m\n\u001b[1;32m---> 13\u001b[1;33m             \u001b[0ms\u001b[0m \u001b[1;33m=\u001b[0m \u001b[0mlocal_alignment\u001b[0m\u001b[1;33m(\u001b[0m\u001b[0mind\u001b[0m\u001b[1;33m[\u001b[0m\u001b[1;34m'seq'\u001b[0m\u001b[1;33m]\u001b[0m\u001b[1;33m,\u001b[0m\u001b[0mrow\u001b[0m\u001b[1;33m[\u001b[0m\u001b[1;34m'seq'\u001b[0m\u001b[1;33m]\u001b[0m\u001b[1;33m)\u001b[0m\u001b[1;33m\u001b[0m\u001b[0m\n\u001b[0m\u001b[0;32m     14\u001b[0m         \u001b[1;32melse\u001b[0m\u001b[1;33m:\u001b[0m\u001b[1;33m\u001b[0m\u001b[0m\n\u001b[0;32m     15\u001b[0m             \u001b[0mprint\u001b[0m\u001b[1;33m(\u001b[0m\u001b[1;34m'Global'\u001b[0m\u001b[1;33m)\u001b[0m\u001b[1;33m\u001b[0m\u001b[0m\n",
      "\u001b[1;32m<ipython-input-43-8e78defd3d5b>\u001b[0m in \u001b[0;36mlocal_alignment\u001b[1;34m(v, w)\u001b[0m\n\u001b[0;32m     20\u001b[0m             \u001b[0mInsert\u001b[0m \u001b[1;33m=\u001b[0m \u001b[0mS\u001b[0m\u001b[1;33m[\u001b[0m\u001b[0mi\u001b[0m\u001b[1;33m-\u001b[0m\u001b[1;36m1\u001b[0m\u001b[1;33m]\u001b[0m\u001b[1;33m[\u001b[0m\u001b[0mj\u001b[0m\u001b[1;33m]\u001b[0m \u001b[1;33m+\u001b[0m \u001b[0md\u001b[0m\u001b[1;33m\u001b[0m\u001b[0m\n\u001b[0;32m     21\u001b[0m             \u001b[0mDelete\u001b[0m \u001b[1;33m=\u001b[0m \u001b[0mS\u001b[0m\u001b[1;33m[\u001b[0m\u001b[0mi\u001b[0m\u001b[1;33m]\u001b[0m\u001b[1;33m[\u001b[0m\u001b[0mj\u001b[0m\u001b[1;33m-\u001b[0m\u001b[1;36m1\u001b[0m\u001b[1;33m]\u001b[0m \u001b[1;33m+\u001b[0m \u001b[0md\u001b[0m\u001b[1;33m\u001b[0m\u001b[0m\n\u001b[1;32m---> 22\u001b[1;33m             \u001b[0mS\u001b[0m\u001b[1;33m[\u001b[0m\u001b[0mi\u001b[0m\u001b[1;33m]\u001b[0m\u001b[1;33m[\u001b[0m\u001b[0mj\u001b[0m\u001b[1;33m]\u001b[0m \u001b[1;33m=\u001b[0m \u001b[0mmax\u001b[0m\u001b[1;33m(\u001b[0m\u001b[0mMatch\u001b[0m\u001b[1;33m,\u001b[0m \u001b[0mInsert\u001b[0m\u001b[1;33m,\u001b[0m \u001b[0mDelete\u001b[0m\u001b[1;33m,\u001b[0m \u001b[1;36m0\u001b[0m\u001b[1;33m)\u001b[0m\u001b[1;33m\u001b[0m\u001b[0m\n\u001b[0m\u001b[0;32m     23\u001b[0m             \u001b[1;32mif\u001b[0m \u001b[0mS\u001b[0m\u001b[1;33m[\u001b[0m\u001b[0mi\u001b[0m\u001b[1;33m]\u001b[0m\u001b[1;33m[\u001b[0m\u001b[0mj\u001b[0m\u001b[1;33m]\u001b[0m \u001b[1;33m>\u001b[0m \u001b[0mmax_val\u001b[0m\u001b[1;33m:\u001b[0m\u001b[1;33m\u001b[0m\u001b[0m\n\u001b[0;32m     24\u001b[0m                 \u001b[0mmax_val\u001b[0m \u001b[1;33m=\u001b[0m \u001b[0mS\u001b[0m\u001b[1;33m[\u001b[0m\u001b[0mi\u001b[0m\u001b[1;33m]\u001b[0m\u001b[1;33m[\u001b[0m\u001b[0mj\u001b[0m\u001b[1;33m]\u001b[0m\u001b[1;33m\u001b[0m\u001b[0m\n",
      "\u001b[1;31mKeyboardInterrupt\u001b[0m: "
     ]
    }
   ],
   "source": [
    "start_time = time.time() # execution time\n",
    "score = []\n",
    "for ind in indonesian_virus:\n",
    "    i = 0\n",
    "    for row in dict:\n",
    "        if ind['id'] == row['id']:\n",
    "            continue\n",
    "        print(ind['id'] , ' vs ' , row['id'])\n",
    "        i += 1\n",
    "        s = \"\"\n",
    "        if len(row['seq']) > threshold:\n",
    "            print('Local')\n",
    "            s = local_alignment(ind['seq'],row['seq'])\n",
    "        else:\n",
    "            print('Global')\n",
    "            s = global_alignment(ind['seq'],row['seq'])\n",
    "        score.append(s)\n",
    "        print(s)\n",
    "        if i > 2:\n",
    "            break\n",
    "print(\"Time elapsed: %s seconds\" % (time.time() - start_time))"
   ]
  },
  {
   "cell_type": "code",
   "execution_count": 11,
   "metadata": {
    "collapsed": false
   },
   "outputs": [
    {
     "name": "stdout",
     "output_type": "stream",
     "text": [
      "1148\n"
     ]
    }
   ],
   "source": [
    "print(len(indonesian_virus[0]['seq']))"
   ]
  },
  {
   "cell_type": "code",
   "execution_count": 12,
   "metadata": {
    "collapsed": false
   },
   "outputs": [
    {
     "name": "stdout",
     "output_type": "stream",
     "text": [
      "402\n"
     ]
    }
   ],
   "source": [
    "print(len(indonesian_virus[1]['seq']))"
   ]
  },
  {
   "cell_type": "code",
   "execution_count": 13,
   "metadata": {
    "collapsed": false
   },
   "outputs": [
    {
     "name": "stdout",
     "output_type": "stream",
     "text": [
      "10807\n"
     ]
    }
   ],
   "source": [
    "print(len(dict[2]['seq']))"
   ]
  },
  {
   "cell_type": "code",
   "execution_count": 14,
   "metadata": {
    "collapsed": false
   },
   "outputs": [
    {
     "name": "stdout",
     "output_type": "stream",
     "text": [
      "1130\n",
      "Time elapsed: 26.79222083091736 seconds\n"
     ]
    }
   ],
   "source": [
    "# before\n",
    "start_time = time.time() # execution time\n",
    "score = local_alignment(indonesian_virus[0]['seq'],dict[2]['seq'])\n",
    "print(score)\n",
    "print(\"Time elapsed: %s seconds\" % (time.time() - start_time))"
   ]
  },
  {
   "cell_type": "code",
   "execution_count": 18,
   "metadata": {
    "collapsed": false
   },
   "outputs": [
    {
     "name": "stdout",
     "output_type": "stream",
     "text": [
      "1130\n",
      "Time elapsed: 23.00524592399597 seconds\n"
     ]
    }
   ],
   "source": [
    "# after\n",
    "start_time = time.time() # execution time\n",
    "score = local_alignment(indonesian_virus[0]['seq'],dict[2]['seq'])\n",
    "print(score)\n",
    "print(\"Time elapsed: %s seconds\" % (time.time() - start_time))"
   ]
  },
  {
   "cell_type": "code",
   "execution_count": 15,
   "metadata": {
    "collapsed": false
   },
   "outputs": [
    {
     "name": "stdout",
     "output_type": "stream",
     "text": [
      "390\n",
      "Time elapsed: 9.176923990249634 seconds\n"
     ]
    }
   ],
   "source": [
    "start_time = time.time() # execution time\n",
    "score = local_alignment(indonesian_virus[1]['seq'],dict[2]['seq'])\n",
    "print(score)\n",
    "print(\"Time elapsed: %s seconds\" % (time.time() - start_time))"
   ]
  },
  {
   "cell_type": "code",
   "execution_count": 15,
   "metadata": {
    "collapsed": false
   },
   "outputs": [
    {
     "name": "stdout",
     "output_type": "stream",
     "text": [
      "390\n",
      "Time elapsed: 8.534305095672607 seconds\n"
     ]
    }
   ],
   "source": [
    "start_time = time.time() # execution time\n",
    "score = local_alignment(indonesian_virus[1]['seq'],dict[2]['seq'])\n",
    "print(score)\n",
    "print(\"Time elapsed: %s seconds\" % (time.time() - start_time))"
   ]
  },
  {
   "cell_type": "code",
   "execution_count": 74,
   "metadata": {
    "collapsed": false
   },
   "outputs": [
    {
     "name": "stdout",
     "output_type": "stream",
     "text": [
      "352\n"
     ]
    }
   ],
   "source": [
    "print(len(indonesian_virus)*(len(dict)-2))"
   ]
  },
  {
   "cell_type": "code",
   "execution_count": 17,
   "metadata": {
    "collapsed": false
   },
   "outputs": [
    {
     "name": "stdout",
     "output_type": "stream",
     "text": [
      "-8511\n",
      "Time elapsed: 25.488998889923096 seconds\n"
     ]
    }
   ],
   "source": [
    "start_time = time.time() # execution time\n",
    "score = global_alignment(indonesian_virus[0]['seq'],dict[2]['seq'])\n",
    "print(score)\n",
    "print(\"Time elapsed: %s seconds\" % (time.time() - start_time))"
   ]
  },
  {
   "cell_type": "code",
   "execution_count": 16,
   "metadata": {
    "collapsed": false
   },
   "outputs": [
    {
     "name": "stdout",
     "output_type": "stream",
     "text": [
      "-10003\n",
      "Time elapsed: 8.755798816680908 seconds\n"
     ]
    }
   ],
   "source": [
    "start_time = time.time() # execution time\n",
    "score = global_alignment(indonesian_virus[1]['seq'],dict[2]['seq'])\n",
    "print(score)\n",
    "print(\"Time elapsed: %s seconds\" % (time.time() - start_time))"
   ]
  },
  {
   "cell_type": "code",
   "execution_count": null,
   "metadata": {
    "collapsed": true
   },
   "outputs": [],
   "source": []
  }
 ],
 "metadata": {
  "kernelspec": {
   "display_name": "Python 3",
   "language": "python",
   "name": "python3"
  },
  "language_info": {
   "codemirror_mode": {
    "name": "ipython",
    "version": 3
   },
   "file_extension": ".py",
   "mimetype": "text/x-python",
   "name": "python",
   "nbconvert_exporter": "python",
   "pygments_lexer": "ipython3",
   "version": "3.4.3"
  }
 },
 "nbformat": 4,
 "nbformat_minor": 0
}
